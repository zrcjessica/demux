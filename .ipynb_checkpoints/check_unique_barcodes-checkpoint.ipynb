{
 "cells": [
  {
   "cell_type": "markdown",
   "metadata": {},
   "source": [
    "Check if all cell barcodes across the filtered matrices of all rat samples are unique. "
   ]
  },
  {
   "cell_type": "code",
   "execution_count": 36,
   "metadata": {},
   "outputs": [],
   "source": [
    "import pandas as pd\n",
    "import gzip\n",
    "import glob\n",
    "from collections import Counter"
   ]
  },
  {
   "cell_type": "code",
   "execution_count": 7,
   "metadata": {},
   "outputs": [],
   "source": [
    "barcode_files = glob.glob('/iblm/netapp/data1/jezhou/Telese_Rat_Amygdala/snRNA/Rat_Opioid_HS*/outs/filtered_feature_bc_matrix/barcodes.tsv.gz') + \\\n",
    "['/iblm/netapp/data1/jezhou/Telese_Rat_Amygdala/Rat_Amygdala_787A_all_seq/outs/filtered_feature_bc_matrix/barcodes.tsv.gz']"
   ]
  },
  {
   "cell_type": "code",
   "execution_count": 8,
   "metadata": {},
   "outputs": [
    {
     "data": {
      "text/plain": [
       "['/iblm/netapp/data1/jezhou/Telese_Rat_Amygdala/snRNA/Rat_Opioid_HS_1_premrna/outs/filtered_feature_bc_matrix/barcodes.tsv.gz',\n",
       " '/iblm/netapp/data1/jezhou/Telese_Rat_Amygdala/snRNA/Rat_Opioid_HS_2_premrna/outs/filtered_feature_bc_matrix/barcodes.tsv.gz',\n",
       " '/iblm/netapp/data1/jezhou/Telese_Rat_Amygdala/snRNA/Rat_Opioid_HS_3_premrna/outs/filtered_feature_bc_matrix/barcodes.tsv.gz',\n",
       " '/iblm/netapp/data1/jezhou/Telese_Rat_Amygdala/snRNA/Rat_Opioid_HS_4_premrna/outs/filtered_feature_bc_matrix/barcodes.tsv.gz',\n",
       " '/iblm/netapp/data1/jezhou/Telese_Rat_Amygdala/Rat_Amygdala_787A_all_seq/outs/filtered_feature_bc_matrix/barcodes.tsv.gz']"
      ]
     },
     "execution_count": 8,
     "metadata": {},
     "output_type": "execute_result"
    }
   ],
   "source": [
    "barcode_files"
   ]
  },
  {
   "cell_type": "code",
   "execution_count": 20,
   "metadata": {},
   "outputs": [],
   "source": [
    "all_barcodes = []\n",
    "for file in barcode_files:\n",
    "    with gzip.open(file) as f:\n",
    "        sample_barcodes = f.read().splitlines()\n",
    "        all_barcodes.append(sample_barcodes)"
   ]
  },
  {
   "cell_type": "code",
   "execution_count": 31,
   "metadata": {},
   "outputs": [
    {
     "name": "stdout",
     "output_type": "stream",
     "text": [
      "38686 barcodes across all filtered matrices\n",
      "38517 unique barcodes across all filtered matrices\n"
     ]
    }
   ],
   "source": [
    "all_barcodes_flat = [x for l in all_barcodes for x in l]\n",
    "\n",
    "print('%d barcodes across all filtered matrices' % len(all_barcodes_flat))\n",
    "print('%d unique barcodes across all filtered matrices' % len(set(all_barcodes_flat)))"
   ]
  },
  {
   "cell_type": "markdown",
   "metadata": {},
   "source": [
    "Identify redundant barcodes and which sample they come from."
   ]
  },
  {
   "cell_type": "code",
   "execution_count": 38,
   "metadata": {},
   "outputs": [
    {
     "data": {
      "text/plain": [
       "{1, 2}"
      ]
     },
     "execution_count": 38,
     "metadata": {},
     "output_type": "execute_result"
    }
   ],
   "source": [
    "barcodes_counted = Counter(all_barcodes_flat).items()\n",
    "set([count for bc, count in barcodes_counted])"
   ]
  },
  {
   "cell_type": "code",
   "execution_count": 40,
   "metadata": {},
   "outputs": [],
   "source": [
    "duplicated_barcodes = [bc for bc, count in barcodes_counted if count > 1]"
   ]
  },
  {
   "cell_type": "markdown",
   "metadata": {},
   "source": [
    "Remove duplicated barcodes from `barcodes.tsv.gz` files and write to new files"
   ]
  },
  {
   "cell_type": "code",
   "execution_count": 66,
   "metadata": {},
   "outputs": [
    {
     "data": {
      "text/plain": [
       "['Rat_Opioid_HS_1_premrna',\n",
       " 'Rat_Opioid_HS_2_premrna',\n",
       " 'Rat_Opioid_HS_3_premrna',\n",
       " 'Rat_Opioid_HS_4_premrna',\n",
       " 'Rat_Amygdala_787A_all_seq']"
      ]
     },
     "execution_count": 66,
     "metadata": {},
     "output_type": "execute_result"
    }
   ],
   "source": [
    "sample_names = [x.split('/')[7] for x in barcode_files[:4]] + [barcode_files[-1].split('/')[6]]\n",
    "sample_names"
   ]
  },
  {
   "cell_type": "code",
   "execution_count": 87,
   "metadata": {},
   "outputs": [
    {
     "name": "stdout",
     "output_type": "stream",
     "text": [
      "9389 barcodes in Rat_Opioid_HS_1_premrna\n",
      "9311 barcodes in Rat_Opioid_HS_1_premrna after filtering\n",
      "8372 barcodes in Rat_Opioid_HS_2_premrna\n",
      "8299 barcodes in Rat_Opioid_HS_2_premrna after filtering\n",
      "7088 barcodes in Rat_Opioid_HS_3_premrna\n",
      "7023 barcodes in Rat_Opioid_HS_3_premrna after filtering\n",
      "8415 barcodes in Rat_Opioid_HS_4_premrna\n",
      "8340 barcodes in Rat_Opioid_HS_4_premrna after filtering\n",
      "5422 barcodes in Rat_Amygdala_787A_all_seq\n",
      "5375 barcodes in Rat_Amygdala_787A_all_seq after filtering\n"
     ]
    }
   ],
   "source": [
    "all_filtered_barcodes = []\n",
    "for sample, barcodes in zip(sample_names, all_barcodes):\n",
    "    print('%d barcodes in %s' % (len(barcodes), sample))\n",
    "    filtered_barcodes = sorted(set(barcodes) - set(duplicated_barcodes))\n",
    "    print('%d barcodes in %s after filtering' % (len(filtered_barcodes), sample))\n",
    "    all_filtered_barcodes.append(filtered_barcodes)\n",
    "    \n",
    "    with gzip.open('/iblm/netapp/data1/jezhou/Telese_Rat_Amygdala/demultiplex_simulation/unique_filtered_barcodes/%s.tsv.gz' % sample, 'wb') as fh:\n",
    "        for barcode in filtered_barcodes:\n",
    "            fh.write(barcode)\n",
    "            fh.write('\\n'.encode('utf-8'))\n",
    "        fh.close()"
   ]
  },
  {
   "cell_type": "code",
   "execution_count": 88,
   "metadata": {},
   "outputs": [
    {
     "data": {
      "text/plain": [
       "38348"
      ]
     },
     "execution_count": 88,
     "metadata": {},
     "output_type": "execute_result"
    }
   ],
   "source": [
    "len([x for l in all_filtered_barcodes for x in l])"
   ]
  }
 ],
 "metadata": {
  "kernelspec": {
   "display_name": "Python 3",
   "language": "python",
   "name": "python3"
  },
  "language_info": {
   "codemirror_mode": {
    "name": "ipython",
    "version": 3
   },
   "file_extension": ".py",
   "mimetype": "text/x-python",
   "name": "python",
   "nbconvert_exporter": "python",
   "pygments_lexer": "ipython3",
   "version": "3.6.10"
  }
 },
 "nbformat": 4,
 "nbformat_minor": 4
}
