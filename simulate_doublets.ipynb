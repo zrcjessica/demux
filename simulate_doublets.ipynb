{
 "cells": [
  {
   "cell_type": "markdown",
   "metadata": {},
   "source": [
    "Simulate doublets from snRNA-seq of rats with corresponding genotype data available.\n",
    "\n",
    "**Samples**\n",
    "\n",
    "| Sample | Description | cells in BAM | cells in filtered | cells in filtered after removing duplicate barcodes |\n",
    "|------|------|------|------| ------|\n",
    "| Rat_Opioid_HS_1 | cocaine_low | 311142 | 9389 | 9311 |\n",
    "| Rat_Opioid_HS_2 | cocaine_high | 325968 | 8372 | 8299 |\n",
    "| Rat_Opioid_HS_3 | oxycodone_low | 298371 | 7088 | 7023 |\n",
    "| Rat_Opioid_HS_4 | oxycodone_high | 309449 | 8415 | 8340 |\n",
    "| Rat_Amygdala_787A_all_seq | naive | 348129 | 5422 | 5375 |\n",
    "\n",
    "Total cells from BAM files: 1593059\n",
    "\n",
    "Total cells from filtered: 38686\n",
    "\n",
    "**Total cells from filtered after removing duplicates: 38348**\n",
    "\n",
    "Given an estimated doublet rate $d$, the total number of cells $x$, and the number of samples $N$, we will estimate the total number of doublets as $D = \\frac{d x}{2}$.\n",
    "\n",
    "Kang et al. defines the probability that a doublet contains cells from different individuals as $1-1/N$. Given this probability and the estimated number of doublets, $D$, we will define the estimated number of doublets that contain cells from different individuals as $a = \\lfloor D(1-1/N) \\rceil$ and the number of doublets that contain cells from the same individual as $b = D-a$.\n",
    "\n",
    "We will shuffle the lists of barcodes from each sample to begin and store each in a list. \n",
    "\n",
    "We will randomly choose $b$ times with replacement from an array of 5 values to represent the samples from which each doublet containing cells from the same individual comes. \n",
    "\n",
    "For doublets containing cells from different individuals, we will randomly choose a 2x$a$ sized array from an array of 5 values to represent the two samples from which each doublet containing cells from different individuals comes.\n",
    "\n",
    "For each doublet, we will pop a barcodes from the list of barcodes corresponding to a sample to generate pairs of cells that will become simulated doublets. \n",
    "\n",
    "##### Reassigning cell barcodes for simulated doublets\n",
    "For each of these doublets, we will assign one member of the doublet the same cell barcode as the other member of the doublet. The output of this task will generate a table mapping cells with changed barcodes to the new barcode."
   ]
  },
  {
   "cell_type": "code",
   "execution_count": 1,
   "metadata": {},
   "outputs": [],
   "source": [
    "import numpy as np\n",
    "import gzip\n",
    "import glob\n",
    "import random\n",
    "from scipy import stats"
   ]
  },
  {
   "cell_type": "markdown",
   "metadata": {},
   "source": [
    "Load filtered unique barcodes from each sample"
   ]
  },
  {
   "cell_type": "code",
   "execution_count": 2,
   "metadata": {},
   "outputs": [],
   "source": [
    "barcode_files = glob.glob('/iblm/netapp/data1/jezhou/Telese_Rat_Amygdala/demultiplex_simulation/unique_filtered_barcodes/*')\n",
    "sample_names = []\n",
    "barcodes = []\n",
    "\n",
    "for file in barcode_files:\n",
    "    sample = file.split('.')[0].split('/')[-1]\n",
    "    sample_names.append(sample)\n",
    "    with gzip.open(file) as fh:\n",
    "        sample_barcodes = fh.read().splitlines()\n",
    "#         sample_barcodes = [bc.decode('utf-8') for bc in sample_barcodes]\n",
    "        barcodes.append(sample_barcodes)"
   ]
  },
  {
   "cell_type": "code",
   "execution_count": 385,
   "metadata": {},
   "outputs": [
    {
     "name": "stdout",
     "output_type": "stream",
     "text": [
      "x = 38348\n",
      "N = 5\n"
     ]
    }
   ],
   "source": [
    "x = len([x for l in barcodes for x in l])\n",
    "N = len(sample_names)\n",
    "\n",
    "print('x = %d\\nN = %d' % (x, N))"
   ]
  },
  {
   "cell_type": "markdown",
   "metadata": {},
   "source": [
    "Set the doublet rate and compute $D,a,b$. \n",
    "\n",
    "We will set the doublet rate as $d=0.3$. This means that 30% of all of the cells will end up in doublets."
   ]
  },
  {
   "cell_type": "code",
   "execution_count": 386,
   "metadata": {},
   "outputs": [
    {
     "name": "stdout",
     "output_type": "stream",
     "text": [
      "D = 5752\n",
      "a = 4602\n",
      "b = 1150\n"
     ]
    }
   ],
   "source": [
    "d = 0.3\n",
    "\n",
    "totDoublets = int(round(d*x/2))\n",
    "a = int(round(totDoublets*(1-1/N)))\n",
    "b = totDoublets-a\n",
    "\n",
    "print('D = %d\\na = %d\\nb = %d' % (totDoublets, a, b))"
   ]
  },
  {
   "cell_type": "markdown",
   "metadata": {},
   "source": [
    "Shuffle barcodes for each sample"
   ]
  },
  {
   "cell_type": "code",
   "execution_count": 387,
   "metadata": {},
   "outputs": [],
   "source": [
    "shuffled_barcodes = [random.sample(bc, len(bc)) for bc in barcodes]"
   ]
  },
  {
   "cell_type": "markdown",
   "metadata": {},
   "source": [
    "Simulate doublets containing cells from the same sample"
   ]
  },
  {
   "cell_type": "code",
   "execution_count": 388,
   "metadata": {
    "scrolled": true
   },
   "outputs": [
    {
     "data": {
      "text/plain": [
       "[0.24280275372900803,\n",
       " 0.2164128507353708,\n",
       " 0.18313862522165433,\n",
       " 0.2174820068843225,\n",
       " 0.14016376342964432]"
      ]
     },
     "execution_count": 388,
     "metadata": {},
     "output_type": "execute_result"
    }
   ],
   "source": [
    "weights = [len(bc)/x for bc in barcodes]\n",
    "weights"
   ]
  },
  {
   "cell_type": "code",
   "execution_count": 389,
   "metadata": {},
   "outputs": [],
   "source": [
    "doublets_same = np.unique(np.random.choice(5, b, p = weights), return_counts = True)"
   ]
  },
  {
   "cell_type": "code",
   "execution_count": 390,
   "metadata": {},
   "outputs": [
    {
     "name": "stdout",
     "output_type": "stream",
     "text": [
      "0\n",
      "284\n",
      "1\n",
      "267\n",
      "2\n",
      "214\n",
      "3\n",
      "225\n",
      "4\n",
      "160\n"
     ]
    }
   ],
   "source": [
    "simulated_doublets_same = []\n",
    "for sample, counts in zip(doublets_same[0], doublets_same[1]):\n",
    "    print(sample)\n",
    "    print(counts)\n",
    "    for i in range(counts):\n",
    "        bcA = shuffled_barcodes[sample].pop()\n",
    "        bcB = shuffled_barcodes[sample].pop()\n",
    "        doublet = [bcA, bcB]\n",
    "        simulated_doublets_same.append(doublet)"
   ]
  },
  {
   "cell_type": "markdown",
   "metadata": {},
   "source": [
    "Simulate doublets containing cells from different samples"
   ]
  },
  {
   "cell_type": "code",
   "execution_count": 399,
   "metadata": {},
   "outputs": [],
   "source": [
    "doublets_diff = []\n",
    "for i in range(a):\n",
    "    dbl = np.random.choice(5,2,p = weights,replace = False)\n",
    "    doublets_diff.append(dbl)\n",
    "\n",
    "doublets_diff = np.array(doublets_diff)"
   ]
  },
  {
   "cell_type": "code",
   "execution_count": 400,
   "metadata": {},
   "outputs": [],
   "source": [
    "simulated_doublets_diff = []\n",
    "for pair in doublets_diff:\n",
    "    bcA = shuffled_barcodes[pair[0]].pop()\n",
    "    bcB = shuffled_barcodes[pair[1]].pop()\n",
    "    doublet = [bcA, bcB]\n",
    "    simulated_doublets_diff.append(doublet)"
   ]
  },
  {
   "cell_type": "markdown",
   "metadata": {},
   "source": [
    "Change barcodes such that cells in doublet have same barcodes."
   ]
  },
  {
   "cell_type": "code",
   "execution_count": 401,
   "metadata": {},
   "outputs": [],
   "source": [
    "# make dict mapping second barcode in each doublet to first barcode\n",
    "new_barcodes_map = {}\n",
    "for doublet in simulated_doublets_same + simulated_doublets_diff:\n",
    "    new_barcodes_map[doublet[1]] = doublet[0]"
   ]
  },
  {
   "cell_type": "code",
   "execution_count": 402,
   "metadata": {},
   "outputs": [
    {
     "name": "stdout",
     "output_type": "stream",
     "text": [
      "Rat_Opioid_HS_1_premrna\n",
      "1380\n",
      "Rat_Opioid_HS_2_premrna\n",
      "1258\n",
      "Rat_Opioid_HS_3_premrna\n",
      "1105\n",
      "Rat_Opioid_HS_4_premrna\n",
      "1157\n",
      "Rat_Amygdala_787A_all_seq\n",
      "852\n"
     ]
    }
   ],
   "source": [
    "# generate new filtered.tsv.gz files\n",
    "out_dir = '/iblm/netapp/data1/jezhou/Telese_Rat_Amygdala/demultiplex_simulation/renamed_filtered_barcodes'\n",
    "\n",
    "for sample,bcs in zip(sample_names, barcodes):\n",
    "    print(sample)\n",
    "    new_bcs = []\n",
    "    mismatches = 0\n",
    "    for i in range(len(bcs)):\n",
    "        if bcs[i] in new_barcodes_map.keys():\n",
    "            new_bcs.append(new_barcodes_map[bcs[i]])\n",
    "            mismatches += 1\n",
    "        else:\n",
    "            new_bcs.append(bcs[i])\n",
    "    print(mismatches)\n",
    "    new_bcs = sorted(new_bcs)\n",
    "    with gzip.open('%s/%s.tsv.gz' % (out_dir, sample), 'wb') as fh:\n",
    "        for bc in new_bcs:\n",
    "            fh.write(bc)\n",
    "            fh.write('\\n'.encode('utf-8'))\n",
    "        fh.close()"
   ]
  },
  {
   "cell_type": "code",
   "execution_count": 403,
   "metadata": {},
   "outputs": [
    {
     "data": {
      "text/plain": [
       "array([1380, 1258, 1105, 1157,  852])"
      ]
     },
     "execution_count": 403,
     "metadata": {},
     "output_type": "execute_result"
    }
   ],
   "source": [
    "# check that number of mismatches is as expected\n",
    "doublets_same[1] + np.unique(doublets_diff[:,1], return_counts = True)[1]"
   ]
  },
  {
   "cell_type": "markdown",
   "metadata": {},
   "source": [
    "Write list of doublets that come from the same cell versus different cells"
   ]
  },
  {
   "cell_type": "code",
   "execution_count": 404,
   "metadata": {},
   "outputs": [],
   "source": [
    "out_dir = '/iblm/netapp/data1/jezhou/Telese_Rat_Amygdala/demultiplex_simulation'\n",
    "\n",
    "# write doublets with cells from same cells\n",
    "doublets_same_reference = np.concatenate((np.repeat(sample_names, doublets_same[1]).reshape(-1,1),\n",
    "               np.array(simulated_doublets_same)), axis = 1)\n",
    "\n",
    "with open(out_dir + '/same_sample_doublets_reference.tsv', 'w') as fh:\n",
    "    for l in doublets_same_reference:\n",
    "        fh.write('\\t'.join(l) + '\\n')"
   ]
  },
  {
   "cell_type": "code",
   "execution_count": 406,
   "metadata": {},
   "outputs": [],
   "source": [
    "# map doublets_diff to sample names\n",
    "map_samples = dict(zip(range(5), sample_names))\n",
    "doublets_diff_with_sample_names = []\n",
    "for i in range(doublets_diff.shape[0]):\n",
    "    sampleA = map_samples[doublets_diff[i,0]]\n",
    "    sampleB = map_samples[doublets_diff[i,1]]\n",
    "    doublets_diff_with_sample_names.append([sampleA, sampleB])\n",
    "\n",
    "doublets_diff_reference = np.concatenate((doublets_diff_with_sample_names, simulated_doublets_diff), axis = 1)\n",
    "\n",
    "with open(out_dir + '/diff_sample_doublets_reference.tsv', 'w') as fh:\n",
    "    for l in doublets_diff_reference:\n",
    "        fh.write('\\t'.join(l) + '\\n')"
   ]
  }
 ],
 "metadata": {
  "kernelspec": {
   "display_name": "Python 3",
   "language": "python",
   "name": "python3"
  },
  "language_info": {
   "codemirror_mode": {
    "name": "ipython",
    "version": 3
   },
   "file_extension": ".py",
   "mimetype": "text/x-python",
   "name": "python",
   "nbconvert_exporter": "python",
   "pygments_lexer": "ipython3",
   "version": "3.6.10"
  }
 },
 "nbformat": 4,
 "nbformat_minor": 4
}
